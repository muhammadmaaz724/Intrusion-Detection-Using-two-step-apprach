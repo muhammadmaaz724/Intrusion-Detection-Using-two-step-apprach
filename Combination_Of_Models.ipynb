{
  "nbformat": 4,
  "nbformat_minor": 0,
  "metadata": {
    "colab": {
      "provenance": []
    },
    "kernelspec": {
      "name": "python3",
      "display_name": "Python 3"
    },
    "language_info": {
      "name": "python"
    }
  },
  "cells": [
    {
      "cell_type": "code",
      "source": [
        "import zipfile\n",
        "import os\n",
        "\n",
        "dataset_zip = \"/content/cicids2017-cleaned-and-preprocessed.zip\"\n",
        "with zipfile.ZipFile(dataset_zip, 'r') as zip_ref:\n",
        "    zip_ref.extractall(\"/content/dataset\")\n"
      ],
      "metadata": {
        "id": "274u57tLbi92"
      },
      "execution_count": 4,
      "outputs": []
    },
    {
      "cell_type": "code",
      "source": [
        "from google.colab import drive\n",
        "drive.mount('/content/drive')"
      ],
      "metadata": {
        "colab": {
          "base_uri": "https://localhost:8080/"
        },
        "id": "8NE443xAblJy",
        "outputId": "43dfae2d-6a30-48f7-b223-cd6d3c4ef753"
      },
      "execution_count": 5,
      "outputs": [
        {
          "output_type": "stream",
          "name": "stdout",
          "text": [
            "Mounted at /content/drive\n"
          ]
        }
      ]
    },
    {
      "cell_type": "code",
      "source": [
        "import numpy as np\n",
        "import pandas as pd\n",
        "from sklearn.preprocessing import MinMaxScaler\n",
        "from sklearn.metrics import classification_report, accuracy_score\n",
        "from tensorflow.keras.models import load_model\n",
        "from tqdm import tqdm"
      ],
      "metadata": {
        "id": "CsAQ0iNiboBi"
      },
      "execution_count": 6,
      "outputs": []
    },
    {
      "cell_type": "code",
      "source": [
        "from tensorflow.keras.models import load_model\n",
        "\n",
        "autoencoder = load_model(\"/content/drive/MyDrive/Model Weights/autoencoder_model_RMS_LR.h5\", compile=False)\n",
        "rnn_model = load_model(\"/content/drive/MyDrive/Model Weights/rnn1_model.h5\", compile=False)\n"
      ],
      "metadata": {
        "id": "LoOyhHlNcD56"
      },
      "execution_count": 7,
      "outputs": []
    },
    {
      "cell_type": "code",
      "source": [
        "# === Load data ===\n",
        "df = pd.read_csv('/content/dataset/cicids2017_cleaned.csv')\n",
        "label_map = {'Bots': 0, 'Brute Force': 1, 'DDoS': 2, 'DoS': 3, 'Normal Traffic': 4, 'Port Scanning': 5, 'Web Attacks': 6}\n",
        "inv_label_map = {v: k for k, v in label_map.items()}\n",
        "\n",
        "true_labels = df['Attack Type'].map(label_map).values\n",
        "features = df.drop(columns=['Attack Type']).values"
      ],
      "metadata": {
        "id": "ID4MtXUVcHD7"
      },
      "execution_count": 52,
      "outputs": []
    },
    {
      "cell_type": "code",
      "source": [
        "# === Scaling ===\n",
        "scaler = MinMaxScaler()\n",
        "features_scaled = scaler.fit_transform(features)"
      ],
      "metadata": {
        "id": "Qb174PdRcKfp"
      },
      "execution_count": 53,
      "outputs": []
    },
    {
      "cell_type": "code",
      "source": [
        "# === Settings ===\n",
        "batch_size = 2000000\n",
        "threshold = 0.000026"
      ],
      "metadata": {
        "id": "43WjKgipcSia"
      },
      "execution_count": 54,
      "outputs": []
    },
    {
      "cell_type": "code",
      "source": [
        "# === Storage ===\n",
        "predictions = []\n",
        "true_labels_adjusted = []"
      ],
      "metadata": {
        "id": "Ph0HAb1mcVw2"
      },
      "execution_count": 55,
      "outputs": []
    },
    {
      "cell_type": "code",
      "source": [
        "# === Batch processing ===\n",
        "for i in tqdm(range(0, len(features_scaled), batch_size)):\n",
        "    end = min(i + batch_size, len(features_scaled))\n",
        "    batch_x = features_scaled[i:end]\n",
        "    batch_labels = true_labels[i:end]\n",
        "\n",
        "    # Step 1: Autoencoder\n",
        "    reconstructions = autoencoder.predict(batch_x)\n",
        "    batch_mse = np.mean(np.power(batch_x - reconstructions, 2), axis=1)\n",
        "\n",
        "    # Step 2: Filter & prepare for RNN\n",
        "    ae_flags = batch_mse >= threshold\n",
        "    rnn_input = batch_x[ae_flags]\n",
        "\n",
        "    # Step 3: RNN only for flagged anomalies\n",
        "    if len(rnn_input) > 0:\n",
        "        rnn_preds = rnn_model.predict(rnn_input)\n",
        "        rnn_classes = np.argmax(rnn_preds, axis=1)\n",
        "        rnn_confidences = np.max(rnn_preds, axis=1)\n",
        "\n",
        "    else:\n",
        "        rnn_classes = []\n",
        "\n",
        "    # Step 4: Compose predictions\n",
        "    rnn_idx = 0\n",
        "    for j in range(len(batch_x)):\n",
        "        true_label = batch_labels[j]\n",
        "\n",
        "        if not ae_flags[j]:\n",
        "            pred = 4  # Autoencoder says normal → predict normal\n",
        "        else:\n",
        "            rnn_class = rnn_classes[rnn_idx]\n",
        "            rnn_confidence = rnn_confidences[rnn_idx]\n",
        "            rnn_idx += 1\n",
        "\n",
        "            if rnn_class != 4:\n",
        "                pred = rnn_class\n",
        "            else:\n",
        "                if batch_mse[j] > 0.1:\n",
        "                    pred = 7  # Other\n",
        "                elif rnn_confidence < 0.6 and batch_mse[j] >= 0.000026:\n",
        "                    pred = 7  # Other\n",
        "                else:\n",
        "                    pred = 4  # Normal\n",
        "\n",
        "        predictions.append(pred)\n",
        "\n",
        "        # Adjust true labels for \"Other\" class\n",
        "        if pred == 7:\n",
        "            if true_label != 4:\n",
        "                true_labels_adjusted.append(7)  # Intrusion labeled as Other → OK\n",
        "            else:\n",
        "                true_labels_adjusted.append(4)  # Normal wrongly labeled as Other\n",
        "        else:\n",
        "            true_labels_adjusted.append(true_label)"
      ],
      "metadata": {
        "colab": {
          "base_uri": "https://localhost:8080/"
        },
        "id": "NOz1FYYhcexp",
        "outputId": "7ca0d530-209b-435c-c5d2-5b8d85e3bfec"
      },
      "execution_count": 56,
      "outputs": [
        {
          "output_type": "stream",
          "name": "stderr",
          "text": [
            "\r  0%|          | 0/2 [00:00<?, ?it/s]"
          ]
        },
        {
          "output_type": "stream",
          "name": "stdout",
          "text": [
            "\u001b[1m62500/62500\u001b[0m \u001b[32m━━━━━━━━━━━━━━━━━━━━\u001b[0m\u001b[37m\u001b[0m \u001b[1m84s\u001b[0m 1ms/step\n",
            "\u001b[1m35973/35973\u001b[0m \u001b[32m━━━━━━━━━━━━━━━━━━━━\u001b[0m\u001b[37m\u001b[0m \u001b[1m174s\u001b[0m 5ms/step\n"
          ]
        },
        {
          "output_type": "stream",
          "name": "stderr",
          "text": [
            "\r 50%|█████     | 1/2 [05:22<05:22, 322.02s/it]"
          ]
        },
        {
          "output_type": "stream",
          "name": "stdout",
          "text": [
            "\u001b[1m16274/16274\u001b[0m \u001b[32m━━━━━━━━━━━━━━━━━━━━\u001b[0m\u001b[37m\u001b[0m \u001b[1m22s\u001b[0m 1ms/step\n",
            "\u001b[1m10691/10691\u001b[0m \u001b[32m━━━━━━━━━━━━━━━━━━━━\u001b[0m\u001b[37m\u001b[0m \u001b[1m51s\u001b[0m 5ms/step\n"
          ]
        },
        {
          "output_type": "stream",
          "name": "stderr",
          "text": [
            "100%|██████████| 2/2 [07:18<00:00, 219.02s/it]\n"
          ]
        }
      ]
    },
    {
      "cell_type": "code",
      "source": [
        "# === Final Evaluation ===\n",
        "target_names = [inv_label_map[i] for i in range(7)] + ['Other']\n",
        "print(\"\\nClassification Report:\")\n",
        "print(classification_report(true_labels_adjusted, predictions, target_names=target_names))\n",
        "\n",
        "overall_acc = accuracy_score(true_labels_adjusted, predictions)\n",
        "print(f\"\\nOverall Accuracy: {overall_acc:.4f}\")\n"
      ],
      "metadata": {
        "colab": {
          "base_uri": "https://localhost:8080/"
        },
        "id": "P6HpvkQWeHlv",
        "outputId": "ee3ac57a-03d0-4500-d5ec-04c279276dad"
      },
      "execution_count": 57,
      "outputs": [
        {
          "output_type": "stream",
          "name": "stdout",
          "text": [
            "\n",
            "Classification Report:\n",
            "                precision    recall  f1-score   support\n",
            "\n",
            "          Bots       0.57      0.73      0.64      1838\n",
            "   Brute Force       1.00      0.97      0.99      9150\n",
            "          DDoS       1.00      1.00      1.00    128014\n",
            "           DoS       0.99      0.99      0.99    193623\n",
            "Normal Traffic       1.00      1.00      1.00   2095057\n",
            " Port Scanning       0.99      1.00      0.99     90693\n",
            "   Web Attacks       0.89      0.99      0.94      2120\n",
            "         Other       0.26      1.00      0.41       256\n",
            "\n",
            "      accuracy                           1.00   2520751\n",
            "     macro avg       0.84      0.96      0.87   2520751\n",
            "  weighted avg       1.00      1.00      1.00   2520751\n",
            "\n",
            "\n",
            "Overall Accuracy: 0.9968\n"
          ]
        }
      ]
    },
    {
      "cell_type": "code",
      "source": [
        "import matplotlib.pyplot as plt\n",
        "import seaborn as sns\n",
        "from sklearn.metrics import confusion_matrix\n",
        "\n",
        "# Compute confusion matrix\n",
        "cm = confusion_matrix(true_labels_adjusted, predictions)\n",
        "\n",
        "plt.figure(figsize=(8, 6))\n",
        "sns.heatmap(cm, annot=True, fmt=\"d\", cmap=\"Blues\", xticklabels=target_names, yticklabels=target_names)\n",
        "plt.title(\"Confusion Matrix\")\n",
        "plt.xlabel(\"Predicted Labels\")\n",
        "plt.ylabel(\"True Labels\")\n",
        "plt.show()\n"
      ],
      "metadata": {
        "colab": {
          "base_uri": "https://localhost:8080/",
          "height": 647
        },
        "id": "6lpG9AZTqkVx",
        "outputId": "77ff86e5-68ed-439a-ca1b-b5de1f1cc6a3"
      },
      "execution_count": 58,
      "outputs": [
        {
          "output_type": "display_data",
          "data": {
            "text/plain": [
              "<Figure size 800x600 with 2 Axes>"
            ],
            "image/png": "[encoded data removed]"
          },
          "metadata": {}
        }
      ]
    },
    {
      "cell_type": "code",
      "source": [
        "import pandas as pd\n",
        "df = pd.read_csv(\"/content/drive/MyDrive/IDS_Dataset.csv\")"
      ],
      "metadata": {
        "id": "4rMmghIYeVh1"
      },
      "execution_count": 15,
      "outputs": []
    },
    {
      "cell_type": "code",
      "source": [
        "df.columns = df.columns.str.strip()\n",
        "df.rename(columns={'Label': 'Attack Type'}, inplace=True)"
      ],
      "metadata": {
        "id": "bO2LU8-deYmr"
      },
      "execution_count": 16,
      "outputs": []
    },
    {
      "cell_type": "code",
      "source": [
        "columns_to_keep = [\n",
        "    'Destination Port', 'Flow Duration', 'Total Fwd Packets',\n",
        "    'Total Length of Fwd Packets', 'Fwd Packet Length Max',\n",
        "    'Fwd Packet Length Min', 'Fwd Packet Length Mean',\n",
        "    'Fwd Packet Length Std', 'Bwd Packet Length Max',\n",
        "    'Bwd Packet Length Min', 'Bwd Packet Length Mean',\n",
        "    'Bwd Packet Length Std', 'Flow Bytes/s', 'Flow Packets/s',\n",
        "    'Flow IAT Mean', 'Flow IAT Std', 'Flow IAT Max', 'Flow IAT Min',\n",
        "    'Fwd IAT Total', 'Fwd IAT Mean', 'Fwd IAT Std', 'Fwd IAT Max',\n",
        "    'Fwd IAT Min', 'Bwd IAT Total', 'Bwd IAT Mean', 'Bwd IAT Std',\n",
        "    'Bwd IAT Max', 'Bwd IAT Min', 'Fwd Header Length', 'Bwd Header Length',\n",
        "    'Fwd Packets/s', 'Bwd Packets/s', 'Min Packet Length',\n",
        "    'Max Packet Length', 'Packet Length Mean', 'Packet Length Std',\n",
        "    'Packet Length Variance', 'FIN Flag Count', 'PSH Flag Count',\n",
        "    'ACK Flag Count', 'Average Packet Size', 'Subflow Fwd Bytes',\n",
        "    'Init_Win_bytes_forward', 'Init_Win_bytes_backward', 'act_data_pkt_fwd',\n",
        "    'min_seg_size_forward', 'Active Mean', 'Active Max', 'Active Min',\n",
        "    'Idle Mean', 'Idle Max', 'Idle Min', 'Attack Type'\n",
        "]\n",
        "\n",
        "df = df[columns_to_keep]\n"
      ],
      "metadata": {
        "id": "HB4H3djTedui"
      },
      "execution_count": 17,
      "outputs": []
    },
    {
      "cell_type": "code",
      "source": [
        "infiltration_df = df[df['Attack Type'] == 'Infiltration']\n",
        "heartbleed_df = df[df['Attack Type'] == 'Heartbleed']"
      ],
      "metadata": {
        "id": "o2YlPd8negbp"
      },
      "execution_count": 18,
      "outputs": []
    },
    {
      "cell_type": "code",
      "source": [
        "import pandas as pd\n",
        "import numpy as np\n",
        "from sklearn.preprocessing import MinMaxScaler\n",
        "from sklearn.metrics import classification_report, confusion_matrix, accuracy_score, roc_auc_score\n",
        "from tensorflow.keras.models import load_model"
      ],
      "metadata": {
        "id": "cpfUfL-rem66"
      },
      "execution_count": 19,
      "outputs": []
    },
    {
      "cell_type": "code",
      "source": [
        "# Prepare features and labels\n",
        "X_infil = infiltration_df.drop('Attack Type', axis=1).values\n",
        "y_infil = np.ones(len(infiltration_df))  # All are attacks"
      ],
      "metadata": {
        "id": "6osmOa50ep15"
      },
      "execution_count": 20,
      "outputs": []
    },
    {
      "cell_type": "code",
      "source": [
        "# Normalize using MinMaxScaler (same as used during training)\n",
        "scaler = MinMaxScaler()\n",
        "X_infil_scaled = scaler.fit_transform(X_infil)"
      ],
      "metadata": {
        "id": "K8leocGLes3-"
      },
      "execution_count": 21,
      "outputs": []
    },
    {
      "cell_type": "code",
      "source": [
        "# === Batch processing ===\n",
        "for i in tqdm(range(0, len(X_infil_scaled), batch_size)):\n",
        "    end = min(i + batch_size, len(X_infil_scaled))\n",
        "    batch_x = X_infil_scaled[i:end]\n",
        "    batch_labels = true_labels[i:end]\n",
        "\n",
        "    # Step 1: Autoencoder\n",
        "    reconstructions = autoencoder.predict(batch_x)\n",
        "    batch_mse = np.mean(np.power(batch_x - reconstructions, 2), axis=1)\n",
        "\n",
        "    # Step 2: Filter & prepare for RNN\n",
        "    ae_flags = batch_mse >= threshold\n",
        "    rnn_input = batch_x[ae_flags]\n",
        "\n",
        "    # Step 3: RNN only for flagged anomalies\n",
        "    if len(rnn_input) > 0:\n",
        "        rnn_preds = rnn_model.predict(rnn_input)\n",
        "        rnn_classes = np.argmax(rnn_preds, axis=1)\n",
        "        rnn_confidences = np.max(rnn_preds, axis=1)\n",
        "\n",
        "    else:\n",
        "        rnn_classes = []\n",
        "\n",
        "    # Step 4: Compose predictions\n",
        "    rnn_idx = 0\n",
        "    for j in range(len(batch_x)):\n",
        "        true_label = batch_labels[j]\n",
        "\n",
        "        if not ae_flags[j]:\n",
        "            pred = 4  # Autoencoder says normal → predict normal\n",
        "        else:\n",
        "            rnn_class = rnn_classes[rnn_idx]\n",
        "            rnn_confidence = rnn_confidences[rnn_idx]\n",
        "            rnn_idx += 1\n",
        "\n",
        "            if rnn_class != 4:\n",
        "                pred = rnn_class\n",
        "            else:\n",
        "                if batch_mse[j] > 0.1:\n",
        "                    pred = 7  # Other\n",
        "                elif rnn_confidence < 0.6 and batch_mse[j] >= 0.000026:\n",
        "                    pred = 7  # Other\n",
        "                else:\n",
        "                    pred = 4  # Normal\n",
        "\n",
        "        predictions.append(pred)\n",
        "\n",
        "        # Adjust true labels for \"Other\" class\n",
        "        if pred == 7:\n",
        "            if true_label != 4:\n",
        "                true_labels_adjusted.append(7)  # Intrusion labeled as Other → OK\n",
        "            else:\n",
        "                true_labels_adjusted.append(4)  # Normal wrongly labeled as Other\n",
        "        else:\n",
        "            true_labels_adjusted.append(true_label)"
      ],
      "metadata": {
        "colab": {
          "base_uri": "https://localhost:8080/"
        },
        "id": "IEtBndWxgOeV",
        "outputId": "19003695-dc22-41cf-f52d-539112f76df9"
      },
      "execution_count": 22,
      "outputs": [
        {
          "output_type": "stream",
          "name": "stderr",
          "text": [
            "\r  0%|          | 0/1 [00:00<?, ?it/s]"
          ]
        },
        {
          "output_type": "stream",
          "name": "stdout",
          "text": [
            "\u001b[1m2/2\u001b[0m \u001b[32m━━━━━━━━━━━━━━━━━━━━\u001b[0m\u001b[37m\u001b[0m \u001b[1m0s\u001b[0m 41ms/step \n",
            "\u001b[1m2/2\u001b[0m \u001b[32m━━━━━━━━━━━━━━━━━━━━\u001b[0m\u001b[37m\u001b[0m \u001b[1m0s\u001b[0m 44ms/step\n"
          ]
        },
        {
          "output_type": "stream",
          "name": "stderr",
          "text": [
            "100%|██████████| 1/1 [00:00<00:00,  1.45it/s]\n"
          ]
        }
      ]
    },
    {
      "cell_type": "code",
      "source": [
        "import pandas as pd\n",
        "import numpy as np\n",
        "from sklearn.preprocessing import MinMaxScaler\n",
        "from sklearn.metrics import classification_report, confusion_matrix, accuracy_score, roc_auc_score\n",
        "from tensorflow.keras.models import load_model\n",
        "from tqdm import tqdm\n",
        "\n",
        "# Prepare features and labels for 'Infiltration' attacks\n",
        "infiltration_df = df[df['Attack Type'] == 'Infiltration']\n",
        "\n",
        "X_infil = infiltration_df.drop('Attack Type', axis=1).values\n",
        "y_infil = np.ones(len(infiltration_df))  # All are attacks\n",
        "\n",
        "# Normalize using MinMaxScaler (same as used during training)\n",
        "scaler = MinMaxScaler()\n",
        "X_infil_scaled = scaler.fit_transform(X_infil)\n",
        "\n",
        "# Initialize variables to collect predictions and true labels\n",
        "predictions = []\n",
        "true_labels_adjusted = []\n",
        "\n",
        "# === Batch processing ===\n",
        "batch_size = 32\n",
        "threshold = 0.000026\n",
        "\n",
        "true_labels = y_infil\n",
        "\n",
        "for i in tqdm(range(0, len(X_infil_scaled), batch_size)):\n",
        "    end = min(i + batch_size, len(X_infil_scaled))\n",
        "    batch_x = X_infil_scaled[i:end]\n",
        "    batch_labels = true_labels[i:end]\n",
        "\n",
        "    # Step 1: Autoencoder\n",
        "    reconstructions = autoencoder.predict(batch_x)\n",
        "    batch_mse = np.mean(np.power(batch_x - reconstructions, 2), axis=1)\n",
        "\n",
        "    # Step 2: Filter & prepare for RNN\n",
        "    ae_flags = batch_mse >= threshold\n",
        "    rnn_input = batch_x[ae_flags]\n",
        "\n",
        "    # Step 3: RNN only for flagged anomalies\n",
        "    if len(rnn_input) > 0:\n",
        "        rnn_preds = rnn_model.predict(rnn_input)\n",
        "        rnn_classes = np.argmax(rnn_preds, axis=1)\n",
        "        rnn_confidences = np.max(rnn_preds, axis=1)\n",
        "    else:\n",
        "        rnn_classes = []\n",
        "\n",
        "    # Step 4: Compose predictions\n",
        "    rnn_idx = 0\n",
        "    for j in range(len(batch_x)):\n",
        "        true_label = batch_labels[j]\n",
        "\n",
        "        if not ae_flags[j]:\n",
        "            pred = 4  # Autoencoder says normal → predict normal\n",
        "        else:\n",
        "            rnn_class = rnn_classes[rnn_idx] if len(rnn_classes) > rnn_idx else 4\n",
        "            rnn_confidence = rnn_confidences[rnn_idx] if len(rnn_confidences) > rnn_idx else 1.0\n",
        "            rnn_idx += 1\n",
        "\n",
        "            if rnn_class != 4:\n",
        "                pred = rnn_class\n",
        "            else:\n",
        "                if batch_mse[j] > 0.1:\n",
        "                    pred = 7  # Other\n",
        "                elif rnn_confidence < 0.6 and batch_mse[j] >= 0.000026:\n",
        "                    pred = 7  # Other\n",
        "                else:\n",
        "                    pred = 4  # Normal\n",
        "\n",
        "        predictions.append(pred)\n",
        "\n",
        "        # Adjust true labels for \"Other\" class\n",
        "        if pred == 7:\n",
        "            if true_label != 4:\n",
        "                true_labels_adjusted.append(7)  # Intrusion labeled as Other → OK\n",
        "            else:\n",
        "                true_labels_adjusted.append(4)  # Normal wrongly labeled as Other\n",
        "        else:\n",
        "            true_labels_adjusted.append(true_label)\n",
        "\n",
        "# Generate classification report\n",
        "print(classification_report(true_labels_adjusted, predictions, zero_division=0))\n",
        "\n"
      ],
      "metadata": {
        "colab": {
          "base_uri": "https://localhost:8080/"
        },
        "id": "IUbKaNgWgi2l",
        "outputId": "e89f09a5-6adc-45ee-914a-042423f732ce"
      },
      "execution_count": 25,
      "outputs": [
        {
          "output_type": "stream",
          "name": "stderr",
          "text": [
            "\r  0%|          | 0/2 [00:00<?, ?it/s]"
          ]
        },
        {
          "output_type": "stream",
          "name": "stdout",
          "text": [
            "\u001b[1m1/1\u001b[0m \u001b[32m━━━━━━━━━━━━━━━━━━━━\u001b[0m\u001b[37m\u001b[0m \u001b[1m0s\u001b[0m 48ms/step\n",
            "\u001b[1m1/1\u001b[0m \u001b[32m━━━━━━━━━━━━━━━━━━━━\u001b[0m\u001b[37m\u001b[0m \u001b[1m0s\u001b[0m 46ms/step\n"
          ]
        },
        {
          "output_type": "stream",
          "name": "stderr",
          "text": [
            "\r 50%|█████     | 1/2 [00:00<00:00,  4.64it/s]"
          ]
        },
        {
          "output_type": "stream",
          "name": "stdout",
          "text": [
            "\u001b[1m1/1\u001b[0m \u001b[32m━━━━━━━━━━━━━━━━━━━━\u001b[0m\u001b[37m\u001b[0m \u001b[1m0s\u001b[0m 46ms/step\n",
            "\u001b[1m1/1\u001b[0m \u001b[32m━━━━━━━━━━━━━━━━━━━━\u001b[0m\u001b[37m\u001b[0m \u001b[1m0s\u001b[0m 50ms/step\n"
          ]
        },
        {
          "output_type": "stream",
          "name": "stderr",
          "text": [
            "100%|██████████| 2/2 [00:00<00:00,  4.50it/s]"
          ]
        },
        {
          "output_type": "stream",
          "name": "stdout",
          "text": [
            "              precision    recall  f1-score   support\n",
            "\n",
            "         1.0       0.00      0.00      0.00         5\n",
            "         4.0       0.00      0.00      0.00         0\n",
            "         7.0       1.00      1.00      1.00        31\n",
            "\n",
            "    accuracy                           0.86        36\n",
            "   macro avg       0.33      0.33      0.33        36\n",
            "weighted avg       0.86      0.86      0.86        36\n",
            "\n"
          ]
        },
        {
          "output_type": "stream",
          "name": "stderr",
          "text": [
            "\n"
          ]
        }
      ]
    },
    {
      "cell_type": "code",
      "source": [
        "import pandas as pd\n",
        "import numpy as np\n",
        "from sklearn.preprocessing import MinMaxScaler\n",
        "from sklearn.metrics import classification_report, confusion_matrix, accuracy_score, roc_auc_score\n",
        "from tensorflow.keras.models import load_model\n",
        "from tqdm import tqdm\n",
        "\n",
        "heartbleed_df = df[df['Attack Type'] == 'Heartbleed']\n",
        "\n",
        "X_heart = heartbleed_df.drop('Attack Type', axis=1).values\n",
        "y_heart = np.ones(len(heartbleed_df))  # All are attacks\n",
        "\n",
        "# Normalize using MinMaxScaler (same as used during training)\n",
        "scaler = MinMaxScaler()\n",
        "X_infil_scaled = scaler.fit_transform(X_heart)\n",
        "\n",
        "# Initialize variables to collect predictions and true labels\n",
        "predictions = []\n",
        "true_labels_adjusted = []\n",
        "\n",
        "# === Batch processing ===\n",
        "batch_size = 32\n",
        "threshold = 0.000026\n",
        "\n",
        "true_labels = y_heart\n",
        "\n",
        "for i in tqdm(range(0, len(X_infil_scaled), batch_size)):\n",
        "    end = min(i + batch_size, len(X_infil_scaled))\n",
        "    batch_x = X_infil_scaled[i:end]\n",
        "    batch_labels = true_labels[i:end]\n",
        "\n",
        "    # Step 1: Autoencoder\n",
        "    reconstructions = autoencoder.predict(batch_x)\n",
        "    batch_mse = np.mean(np.power(batch_x - reconstructions, 2), axis=1)\n",
        "\n",
        "    # Step 2: Filter & prepare for RNN\n",
        "    ae_flags = batch_mse >= threshold\n",
        "    rnn_input = batch_x[ae_flags]\n",
        "\n",
        "    # Step 3: RNN only for flagged anomalies\n",
        "    if len(rnn_input) > 0:\n",
        "        rnn_preds = rnn_model.predict(rnn_input)\n",
        "        rnn_classes = np.argmax(rnn_preds, axis=1)\n",
        "        rnn_confidences = np.max(rnn_preds, axis=1)\n",
        "    else:\n",
        "        rnn_classes = []\n",
        "\n",
        "    # Step 4: Compose predictions\n",
        "    rnn_idx = 0\n",
        "    for j in range(len(batch_x)):\n",
        "        true_label = batch_labels[j]\n",
        "\n",
        "        if not ae_flags[j]:\n",
        "            pred = 4  # Autoencoder says normal → predict normal\n",
        "        else:\n",
        "            rnn_class = rnn_classes[rnn_idx] if len(rnn_classes) > rnn_idx else 4\n",
        "            rnn_confidence = rnn_confidences[rnn_idx] if len(rnn_confidences) > rnn_idx else 1.0\n",
        "            rnn_idx += 1\n",
        "\n",
        "            if rnn_class != 4:\n",
        "                pred = rnn_class\n",
        "            else:\n",
        "                if batch_mse[j] > 0.1:\n",
        "                    pred = 7  # Other\n",
        "                elif rnn_confidence < 0.6 and batch_mse[j] >= 0.000026:\n",
        "                    pred = 7  # Other\n",
        "                else:\n",
        "                    pred = 4  # Normal\n",
        "\n",
        "        predictions.append(pred)\n",
        "\n",
        "        # Adjust true labels for \"Other\" class\n",
        "        if pred == 7:\n",
        "            if true_label != 4:\n",
        "                true_labels_adjusted.append(7)  # Intrusion labeled as Other → OK\n",
        "            else:\n",
        "                true_labels_adjusted.append(4)  # Normal wrongly labeled as Other\n",
        "        else:\n",
        "            true_labels_adjusted.append(true_label)\n",
        "\n",
        "# Generate classification report\n",
        "print(classification_report(true_labels_adjusted, predictions, zero_division=0))\n",
        "\n"
      ],
      "metadata": {
        "colab": {
          "base_uri": "https://localhost:8080/"
        },
        "id": "Rk145FEihqkq",
        "outputId": "475ddcd9-afb7-443e-e160-b85601944aec"
      },
      "execution_count": 26,
      "outputs": [
        {
          "output_type": "stream",
          "name": "stderr",
          "text": [
            "\r  0%|          | 0/1 [00:00<?, ?it/s]"
          ]
        },
        {
          "output_type": "stream",
          "name": "stdout",
          "text": [
            "\u001b[1m1/1\u001b[0m \u001b[32m━━━━━━━━━━━━━━━━━━━━\u001b[0m\u001b[37m\u001b[0m \u001b[1m0s\u001b[0m 46ms/step\n",
            "\u001b[1m1/1\u001b[0m \u001b[32m━━━━━━━━━━━━━━━━━━━━\u001b[0m\u001b[37m\u001b[0m \u001b[1m0s\u001b[0m 48ms/step\n"
          ]
        },
        {
          "output_type": "stream",
          "name": "stderr",
          "text": [
            "100%|██████████| 1/1 [00:00<00:00,  5.07it/s]"
          ]
        },
        {
          "output_type": "stream",
          "name": "stdout",
          "text": [
            "              precision    recall  f1-score   support\n",
            "\n",
            "           7       1.00      1.00      1.00        11\n",
            "\n",
            "    accuracy                           1.00        11\n",
            "   macro avg       1.00      1.00      1.00        11\n",
            "weighted avg       1.00      1.00      1.00        11\n",
            "\n"
          ]
        },
        {
          "output_type": "stream",
          "name": "stderr",
          "text": [
            "\n"
          ]
        }
      ]
    }
  ]
}